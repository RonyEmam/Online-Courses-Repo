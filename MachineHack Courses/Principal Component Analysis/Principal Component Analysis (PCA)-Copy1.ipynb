{
 "cells": [
  {
   "cell_type": "markdown",
   "id": "f1237392",
   "metadata": {},
   "source": [
    "# Principal Component Analysis (PCA)\n",
    "\n",
    "- Dimensionality Reduction is a technique that allows us to understand the independent variables and their variance thus helping to identify a minimum number of independent variables that has the highest variance with respect to the dependent variables.\n",
    "\n",
    "- In simple terms, the dimensionality reduction technique helps us reduce the number of independent variables in a problem by identifying new and most effective ones.\n",
    "\n",
    "- This technique is used as a dimentsionality reduction technique. Best for visualization: to pick 2 to 3 principal components."
   ]
  },
  {
   "cell_type": "markdown",
   "id": "32528178",
   "metadata": {},
   "source": [
    "## The following steps are taken by the PCA algorithm:-\n",
    "\n",
    "1. Standardizing the dataset.\n",
    "2. Calculating the covariance matrix for the features in the dataset.\n",
    "3. Calculating the eigenvalues and eigenvectors for the covariance matrix.\n",
    "4. Sorting eigenvalues and their corresponding eigenvectors.\n",
    "5. Selecting K eigenvalues and form a matrix of eigenvectors.\n",
    "6. Transforming the original matrix."
   ]
  },
  {
   "cell_type": "code",
   "execution_count": 1,
   "id": "fd7f686b",
   "metadata": {},
   "outputs": [],
   "source": [
    "# Import the required libraries\n",
    "import pandas as pd\n",
    "import numpy as np"
   ]
  },
  {
   "cell_type": "markdown",
   "id": "2d2e2db5",
   "metadata": {},
   "source": [
    "### Step 1: Reading the data and defining the input-output features \n",
    "\n"
   ]
  },
  {
   "cell_type": "code",
   "execution_count": 2,
   "id": "25845f33",
   "metadata": {},
   "outputs": [
    {
     "data": {
      "text/html": [
       "<div>\n",
       "<style scoped>\n",
       "    .dataframe tbody tr th:only-of-type {\n",
       "        vertical-align: middle;\n",
       "    }\n",
       "\n",
       "    .dataframe tbody tr th {\n",
       "        vertical-align: top;\n",
       "    }\n",
       "\n",
       "    .dataframe thead th {\n",
       "        text-align: right;\n",
       "    }\n",
       "</style>\n",
       "<table border=\"1\" class=\"dataframe\">\n",
       "  <thead>\n",
       "    <tr style=\"text-align: right;\">\n",
       "      <th></th>\n",
       "      <th>ID</th>\n",
       "      <th>LIMIT_BAL</th>\n",
       "      <th>SEX</th>\n",
       "      <th>EDUCATION</th>\n",
       "      <th>MARRIAGE</th>\n",
       "      <th>AGE</th>\n",
       "      <th>PAY_0</th>\n",
       "      <th>PAY_2</th>\n",
       "      <th>PAY_3</th>\n",
       "      <th>PAY_4</th>\n",
       "      <th>...</th>\n",
       "      <th>BILL_AMT4</th>\n",
       "      <th>BILL_AMT5</th>\n",
       "      <th>BILL_AMT6</th>\n",
       "      <th>PAY_AMT1</th>\n",
       "      <th>PAY_AMT2</th>\n",
       "      <th>PAY_AMT3</th>\n",
       "      <th>PAY_AMT4</th>\n",
       "      <th>PAY_AMT5</th>\n",
       "      <th>PAY_AMT6</th>\n",
       "      <th>default.payment.next.month</th>\n",
       "    </tr>\n",
       "  </thead>\n",
       "  <tbody>\n",
       "    <tr>\n",
       "      <th>0</th>\n",
       "      <td>1</td>\n",
       "      <td>20000.0</td>\n",
       "      <td>2</td>\n",
       "      <td>2</td>\n",
       "      <td>1</td>\n",
       "      <td>24</td>\n",
       "      <td>2</td>\n",
       "      <td>2</td>\n",
       "      <td>-1</td>\n",
       "      <td>-1</td>\n",
       "      <td>...</td>\n",
       "      <td>0.0</td>\n",
       "      <td>0.0</td>\n",
       "      <td>0.0</td>\n",
       "      <td>0.0</td>\n",
       "      <td>689.0</td>\n",
       "      <td>0.0</td>\n",
       "      <td>0.0</td>\n",
       "      <td>0.0</td>\n",
       "      <td>0.0</td>\n",
       "      <td>1</td>\n",
       "    </tr>\n",
       "    <tr>\n",
       "      <th>1</th>\n",
       "      <td>2</td>\n",
       "      <td>120000.0</td>\n",
       "      <td>2</td>\n",
       "      <td>2</td>\n",
       "      <td>2</td>\n",
       "      <td>26</td>\n",
       "      <td>-1</td>\n",
       "      <td>2</td>\n",
       "      <td>0</td>\n",
       "      <td>0</td>\n",
       "      <td>...</td>\n",
       "      <td>3272.0</td>\n",
       "      <td>3455.0</td>\n",
       "      <td>3261.0</td>\n",
       "      <td>0.0</td>\n",
       "      <td>1000.0</td>\n",
       "      <td>1000.0</td>\n",
       "      <td>1000.0</td>\n",
       "      <td>0.0</td>\n",
       "      <td>2000.0</td>\n",
       "      <td>1</td>\n",
       "    </tr>\n",
       "    <tr>\n",
       "      <th>2</th>\n",
       "      <td>3</td>\n",
       "      <td>90000.0</td>\n",
       "      <td>2</td>\n",
       "      <td>2</td>\n",
       "      <td>2</td>\n",
       "      <td>34</td>\n",
       "      <td>0</td>\n",
       "      <td>0</td>\n",
       "      <td>0</td>\n",
       "      <td>0</td>\n",
       "      <td>...</td>\n",
       "      <td>14331.0</td>\n",
       "      <td>14948.0</td>\n",
       "      <td>15549.0</td>\n",
       "      <td>1518.0</td>\n",
       "      <td>1500.0</td>\n",
       "      <td>1000.0</td>\n",
       "      <td>1000.0</td>\n",
       "      <td>1000.0</td>\n",
       "      <td>5000.0</td>\n",
       "      <td>0</td>\n",
       "    </tr>\n",
       "    <tr>\n",
       "      <th>3</th>\n",
       "      <td>4</td>\n",
       "      <td>50000.0</td>\n",
       "      <td>2</td>\n",
       "      <td>2</td>\n",
       "      <td>1</td>\n",
       "      <td>37</td>\n",
       "      <td>0</td>\n",
       "      <td>0</td>\n",
       "      <td>0</td>\n",
       "      <td>0</td>\n",
       "      <td>...</td>\n",
       "      <td>28314.0</td>\n",
       "      <td>28959.0</td>\n",
       "      <td>29547.0</td>\n",
       "      <td>2000.0</td>\n",
       "      <td>2019.0</td>\n",
       "      <td>1200.0</td>\n",
       "      <td>1100.0</td>\n",
       "      <td>1069.0</td>\n",
       "      <td>1000.0</td>\n",
       "      <td>0</td>\n",
       "    </tr>\n",
       "    <tr>\n",
       "      <th>4</th>\n",
       "      <td>5</td>\n",
       "      <td>50000.0</td>\n",
       "      <td>1</td>\n",
       "      <td>2</td>\n",
       "      <td>1</td>\n",
       "      <td>57</td>\n",
       "      <td>-1</td>\n",
       "      <td>0</td>\n",
       "      <td>-1</td>\n",
       "      <td>0</td>\n",
       "      <td>...</td>\n",
       "      <td>20940.0</td>\n",
       "      <td>19146.0</td>\n",
       "      <td>19131.0</td>\n",
       "      <td>2000.0</td>\n",
       "      <td>36681.0</td>\n",
       "      <td>10000.0</td>\n",
       "      <td>9000.0</td>\n",
       "      <td>689.0</td>\n",
       "      <td>679.0</td>\n",
       "      <td>0</td>\n",
       "    </tr>\n",
       "  </tbody>\n",
       "</table>\n",
       "<p>5 rows × 25 columns</p>\n",
       "</div>"
      ],
      "text/plain": [
       "   ID  LIMIT_BAL  SEX  EDUCATION  MARRIAGE  AGE  PAY_0  PAY_2  PAY_3  PAY_4  \\\n",
       "0   1    20000.0    2          2         1   24      2      2     -1     -1   \n",
       "1   2   120000.0    2          2         2   26     -1      2      0      0   \n",
       "2   3    90000.0    2          2         2   34      0      0      0      0   \n",
       "3   4    50000.0    2          2         1   37      0      0      0      0   \n",
       "4   5    50000.0    1          2         1   57     -1      0     -1      0   \n",
       "\n",
       "   ...  BILL_AMT4  BILL_AMT5  BILL_AMT6  PAY_AMT1  PAY_AMT2  PAY_AMT3  \\\n",
       "0  ...        0.0        0.0        0.0       0.0     689.0       0.0   \n",
       "1  ...     3272.0     3455.0     3261.0       0.0    1000.0    1000.0   \n",
       "2  ...    14331.0    14948.0    15549.0    1518.0    1500.0    1000.0   \n",
       "3  ...    28314.0    28959.0    29547.0    2000.0    2019.0    1200.0   \n",
       "4  ...    20940.0    19146.0    19131.0    2000.0   36681.0   10000.0   \n",
       "\n",
       "   PAY_AMT4  PAY_AMT5  PAY_AMT6  default.payment.next.month  \n",
       "0       0.0       0.0       0.0                           1  \n",
       "1    1000.0       0.0    2000.0                           1  \n",
       "2    1000.0    1000.0    5000.0                           0  \n",
       "3    1100.0    1069.0    1000.0                           0  \n",
       "4    9000.0     689.0     679.0                           0  \n",
       "\n",
       "[5 rows x 25 columns]"
      ]
     },
     "execution_count": 2,
     "metadata": {},
     "output_type": "execute_result"
    }
   ],
   "source": [
    "#importing the dataset\n",
    "df = pd.read_csv('https://raw.githubusercontent.com/analyticsindiamagazine/MocksDatasets/main/Credit_Card.csv')\n",
    "\n",
    "#checking the dataset variables\n",
    "df.head()"
   ]
  },
  {
   "cell_type": "code",
   "execution_count": 40,
   "id": "bcb52064",
   "metadata": {},
   "outputs": [
    {
     "name": "stdout",
     "output_type": "stream",
     "text": [
      "<class 'pandas.core.frame.DataFrame'>\n",
      "RangeIndex: 30000 entries, 0 to 29999\n",
      "Data columns (total 25 columns):\n",
      " #   Column                      Non-Null Count  Dtype  \n",
      "---  ------                      --------------  -----  \n",
      " 0   ID                          30000 non-null  int64  \n",
      " 1   LIMIT_BAL                   30000 non-null  float64\n",
      " 2   SEX                         30000 non-null  int64  \n",
      " 3   EDUCATION                   30000 non-null  int64  \n",
      " 4   MARRIAGE                    30000 non-null  int64  \n",
      " 5   AGE                         30000 non-null  int64  \n",
      " 6   PAY_0                       30000 non-null  int64  \n",
      " 7   PAY_2                       30000 non-null  int64  \n",
      " 8   PAY_3                       30000 non-null  int64  \n",
      " 9   PAY_4                       30000 non-null  int64  \n",
      " 10  PAY_5                       30000 non-null  int64  \n",
      " 11  PAY_6                       30000 non-null  int64  \n",
      " 12  BILL_AMT1                   30000 non-null  float64\n",
      " 13  BILL_AMT2                   30000 non-null  float64\n",
      " 14  BILL_AMT3                   30000 non-null  float64\n",
      " 15  BILL_AMT4                   30000 non-null  float64\n",
      " 16  BILL_AMT5                   30000 non-null  float64\n",
      " 17  BILL_AMT6                   30000 non-null  float64\n",
      " 18  PAY_AMT1                    30000 non-null  float64\n",
      " 19  PAY_AMT2                    30000 non-null  float64\n",
      " 20  PAY_AMT3                    30000 non-null  float64\n",
      " 21  PAY_AMT4                    30000 non-null  float64\n",
      " 22  PAY_AMT5                    30000 non-null  float64\n",
      " 23  PAY_AMT6                    30000 non-null  float64\n",
      " 24  default.payment.next.month  30000 non-null  int64  \n",
      "dtypes: float64(13), int64(12)\n",
      "memory usage: 5.7 MB\n"
     ]
    }
   ],
   "source": [
    "df.info()"
   ]
  },
  {
   "cell_type": "code",
   "execution_count": 3,
   "id": "70f4558d",
   "metadata": {},
   "outputs": [
    {
     "name": "stdout",
     "output_type": "stream",
     "text": [
      "Shape of the dataset (No. of rows, No. of the columns): (30000, 25)\n"
     ]
    }
   ],
   "source": [
    "#checking the shape of the data\n",
    "print('Shape of the dataset (No. of rows, No. of the columns):', df.shape)"
   ]
  },
  {
   "cell_type": "markdown",
   "id": "7da971f8",
   "metadata": {},
   "source": [
    "Let’s see if there are any null values present in the dataset.\n",
    "\n"
   ]
  },
  {
   "cell_type": "code",
   "execution_count": 5,
   "id": "3f872676",
   "metadata": {},
   "outputs": [
    {
     "data": {
      "text/plain": [
       "ID                            0\n",
       "LIMIT_BAL                     0\n",
       "SEX                           0\n",
       "EDUCATION                     0\n",
       "MARRIAGE                      0\n",
       "AGE                           0\n",
       "PAY_0                         0\n",
       "PAY_2                         0\n",
       "PAY_3                         0\n",
       "PAY_4                         0\n",
       "PAY_5                         0\n",
       "PAY_6                         0\n",
       "BILL_AMT1                     0\n",
       "BILL_AMT2                     0\n",
       "BILL_AMT3                     0\n",
       "BILL_AMT4                     0\n",
       "BILL_AMT5                     0\n",
       "BILL_AMT6                     0\n",
       "PAY_AMT1                      0\n",
       "PAY_AMT2                      0\n",
       "PAY_AMT3                      0\n",
       "PAY_AMT4                      0\n",
       "PAY_AMT5                      0\n",
       "PAY_AMT6                      0\n",
       "default.payment.next.month    0\n",
       "dtype: int64"
      ]
     },
     "execution_count": 5,
     "metadata": {},
     "output_type": "execute_result"
    }
   ],
   "source": [
    "#checking the null values\n",
    "df.isna().sum()"
   ]
  },
  {
   "cell_type": "markdown",
   "id": "8d5ccd1a",
   "metadata": {},
   "source": [
    "### From this section we have highlighted the imbalanced data"
   ]
  },
  {
   "cell_type": "markdown",
   "id": "8486aac7",
   "metadata": {},
   "source": [
    "As we are dealing with the classification task, let's check the percentage distribution of each class of dependent variable. "
   ]
  },
  {
   "cell_type": "code",
   "execution_count": 38,
   "id": "ceb3a8af",
   "metadata": {},
   "outputs": [
    {
     "data": {
      "text/plain": [
       "0    77.88\n",
       "1    22.12\n",
       "Name: default.payment.next.month, dtype: float64"
      ]
     },
     "execution_count": 38,
     "metadata": {},
     "output_type": "execute_result"
    }
   ],
   "source": [
    "# Check the percentage distribution of each class \n",
    "df['default.payment.next.month'].value_counts(normalize=True)*100 "
   ]
  },
  {
   "cell_type": "code",
   "execution_count": null,
   "id": "93955c6b",
   "metadata": {},
   "outputs": [],
   "source": []
  },
  {
   "cell_type": "code",
   "execution_count": 6,
   "id": "832f0ab7",
   "metadata": {},
   "outputs": [],
   "source": [
    "#defining the features\n",
    "x=df.iloc[:,1:-1].values #input features\n",
    "y=df.iloc[:,-1].values #output features"
   ]
  },
  {
   "cell_type": "markdown",
   "id": "914c9ef2",
   "metadata": {},
   "source": [
    "### Step 2: Applying PCA to extract optimal features\n",
    "\n",
    "Before applying PCA we need to scale our data (Standardize the data) in order for all values to compare appropriately. So now we will perform a MinMax scaler to scale down all independent values within the range 0 to 1. "
   ]
  },
  {
   "cell_type": "code",
   "execution_count": 7,
   "id": "927e366a",
   "metadata": {},
   "outputs": [],
   "source": [
    "#scaling the data\n",
    "\n",
    "from sklearn.preprocessing import MinMaxScaler\n",
    "x = MinMaxScaler().fit_transform(x)"
   ]
  },
  {
   "cell_type": "code",
   "execution_count": 8,
   "id": "acd16c46",
   "metadata": {},
   "outputs": [
    {
     "data": {
      "text/plain": [
       "PCA()"
      ]
     },
     "execution_count": 8,
     "metadata": {},
     "output_type": "execute_result"
    }
   ],
   "source": [
    "#fitting PCA to analyise compnents\n",
    "\n",
    "from sklearn.decomposition import PCA\n",
    "pca= PCA(n_components=None)\n",
    "pca.fit(x)"
   ]
  },
  {
   "cell_type": "code",
   "execution_count": 9,
   "id": "9886e874",
   "metadata": {},
   "outputs": [
    {
     "data": {
      "text/plain": [
       "array([2.39921405e-01, 6.23298672e-02, 4.07593979e-02, 2.39375742e-02,\n",
       "       1.66483704e-02, 1.42113781e-02, 9.28602578e-03, 7.87094875e-03,\n",
       "       5.45234314e-03, 3.63128812e-03, 2.69052558e-03, 1.81099941e-03,\n",
       "       1.34499878e-03, 1.09886467e-03, 1.00061702e-03, 5.97020005e-04,\n",
       "       4.31000732e-04, 3.43514409e-04, 2.39650560e-04, 1.43196025e-04,\n",
       "       1.08669361e-04, 7.41323540e-05, 3.79534566e-05])"
      ]
     },
     "execution_count": 9,
     "metadata": {},
     "output_type": "execute_result"
    }
   ],
   "source": [
    "#features stored based on eigenvalues\n",
    "\n",
    "pca.explained_variance_"
   ]
  },
  {
   "cell_type": "code",
   "execution_count": 10,
   "id": "e5a27779",
   "metadata": {},
   "outputs": [
    {
     "data": {
      "text/plain": [
       "array([5.52852843e-01, 1.43627219e-01, 9.39222117e-02, 5.51595468e-02,\n",
       "       3.83629752e-02, 3.27473940e-02, 2.13978647e-02, 1.81370912e-02,\n",
       "       1.25638786e-02, 8.36760671e-03, 6.19979995e-03, 4.17310065e-03,\n",
       "       3.09929161e-03, 2.53212278e-03, 2.30572994e-03, 1.37571805e-03,\n",
       "       9.93158489e-04, 7.91563044e-04, 5.52228734e-04, 3.29967764e-04,\n",
       "       2.50407693e-04, 1.70823786e-04, 8.74564585e-05])"
      ]
     },
     "execution_count": 10,
     "metadata": {},
     "output_type": "execute_result"
    }
   ],
   "source": [
    "#percentage contribution of each feature\n",
    "\n",
    "pca.explained_variance_ratio_"
   ]
  },
  {
   "cell_type": "code",
   "execution_count": 19,
   "id": "8f3dcf7c",
   "metadata": {},
   "outputs": [
    {
     "data": {
      "text/plain": [
       "<matplotlib.lines.Line2D at 0x7f92105c5a90>"
      ]
     },
     "execution_count": 19,
     "metadata": {},
     "output_type": "execute_result"
    },
    {
     "data": {
      "image/png": "[encoded data removed]",
      "text/plain": [
       "<Figure size 504x288 with 1 Axes>"
      ]
     },
     "metadata": {
      "needs_background": "light"
     },
     "output_type": "display_data"
    }
   ],
   "source": [
    "#variance Vs compnent plot\n",
    "\n",
    "import matplotlib.pyplot as plt\n",
    "import numpy as np\n",
    "\n",
    "plt.figure(figsize=(7,4))\n",
    "plt.plot(range(1,24,1),np.cumsum(pca.explained_variance_ratio_))\n",
    "plt.ylabel('Sum of variance ratio')\n",
    "plt.xlabel('Range of components')\n",
    "plt.grid()\n",
    "plt.title('Scree plot')\n",
    "\n",
    "plt.axvline(np.cumsum(pca.explained_variance_ratio_).mean(), color='red', linestyle='dashed', linewidth=3)"
   ]
  },
  {
   "cell_type": "markdown",
   "id": "256609bd",
   "metadata": {},
   "source": [
    "From the above plot, we can choose the optimal component to be 11 which explains around 98% variance (means contains 98% information from the original dataset). \n",
    "\n",
    "Now let’s newly fit the PCA with n_components to be 11. "
   ]
  },
  {
   "cell_type": "code",
   "execution_count": 20,
   "id": "c4a21f41",
   "metadata": {},
   "outputs": [
    {
     "data": {
      "text/plain": [
       "PCA(n_components=11)"
      ]
     },
     "execution_count": 20,
     "metadata": {},
     "output_type": "execute_result"
    }
   ],
   "source": [
    "#choosing the optimal component to be 11 as per the plot. 11 components are addressing 98% of the variance\n",
    "\n",
    "pca= PCA(n_components=11)\n",
    "pca.fit(x)"
   ]
  },
  {
   "cell_type": "markdown",
   "id": "3b20c8b9",
   "metadata": {},
   "source": [
    "After this process, we will check the cumulative sum of variances addressed by these 11 features:"
   ]
  },
  {
   "cell_type": "code",
   "execution_count": 21,
   "id": "0afbd14e",
   "metadata": {},
   "outputs": [
    {
     "data": {
      "text/plain": [
       "array([0.55285284, 0.69648006, 0.79040227, 0.84556182, 0.8839248 ,\n",
       "       0.91667219, 0.93807005, 0.95620715, 0.96877102, 0.97713863,\n",
       "       0.98333843])"
      ]
     },
     "execution_count": 21,
     "metadata": {},
     "output_type": "execute_result"
    }
   ],
   "source": [
    "pca.explained_variance_ratio_.cumsum()"
   ]
  },
  {
   "cell_type": "code",
   "execution_count": 22,
   "id": "808467c6",
   "metadata": {},
   "outputs": [
    {
     "data": {
      "text/plain": [
       "((24000, 11), (24000,), (6000, 11), (6000,))"
      ]
     },
     "execution_count": 22,
     "metadata": {},
     "output_type": "execute_result"
    }
   ],
   "source": [
    "#creating training & test sets\n",
    "from sklearn.model_selection import train_test_split\n",
    "\n",
    "x_train, x_test, y_train, y_test = train_test_split(pca.transform(x),y,random_state=0, test_size=0.2)\n",
    "\n",
    "#checking the shapes of the newly created train, test patterns\n",
    "#creating the training & test sets:\n",
    "\n",
    "x_train.shape, y_train.shape, x_test.shape, y_test.shape"
   ]
  },
  {
   "cell_type": "markdown",
   "id": "e7ed3edb",
   "metadata": {},
   "source": [
    "### Step 3: Balancing using SMOTE\n",
    "\n",
    "- importing the imbalanced-learn library to use SMOTE technique.\n",
    "!pip install imbalanced-learn"
   ]
  },
  {
   "cell_type": "code",
   "execution_count": 24,
   "id": "f4eb3db7",
   "metadata": {},
   "outputs": [
    {
     "name": "stdout",
     "output_type": "stream",
     "text": [
      "Before SMOTE, counts of label \"1\": 5339\n",
      "After SMOTE, counts of label \"0\": 18661\n"
     ]
    }
   ],
   "source": [
    "#counting the labels before resampling\n",
    "\n",
    "print('Before SMOTE, counts of label \"1\": {}'.format(sum(y_train == 1)))\n",
    "print('After SMOTE, counts of label \"0\": {}'.format(sum(y_train == 0)))"
   ]
  },
  {
   "cell_type": "markdown",
   "id": "a12f9313",
   "metadata": {},
   "source": [
    "As we can see there is a huge difference between the classes. \n",
    "\n",
    "Now let’s balance these classes. "
   ]
  },
  {
   "cell_type": "code",
   "execution_count": 30,
   "id": "c78ab1e0",
   "metadata": {},
   "outputs": [
    {
     "name": "stdout",
     "output_type": "stream",
     "text": [
      "After SMOTE, the shape of train_X: (37322, 11)\n",
      "After SMOTE, the shape of train_y: (37322,) \n",
      "\n",
      "After SMOTE, counts of label '1': 18661\n",
      "After SMOTE, counts of label '0': 18661\n"
     ]
    }
   ],
   "source": [
    "# Using SMOTE resampling for balancing the class labels\n",
    "from imblearn.over_sampling import SMOTE\n",
    "\n",
    "smt = SMOTE(k_neighbors=5, random_state=42)\n",
    "\n",
    "x_train_res, y_train_res = smt.fit_resample(x_train, y_train)\n",
    "\n",
    "print('After SMOTE, the shape of train_X: {}'.format(x_train_res.shape))\n",
    "print('After SMOTE, the shape of train_y: {} \\n'.format(y_train_res.shape))\n",
    "\n",
    "print(\"After SMOTE, counts of label '1': {}\".format(sum(y_train_res == 1)))\n",
    "print(\"After SMOTE, counts of label '0': {}\".format(sum(y_train_res == 0)))"
   ]
  },
  {
   "cell_type": "markdown",
   "id": "eda7773d",
   "metadata": {},
   "source": [
    "### Step 4: Train and evaluate the classifier \n",
    "\n"
   ]
  },
  {
   "cell_type": "code",
   "execution_count": 31,
   "id": "b3aa14c1",
   "metadata": {},
   "outputs": [],
   "source": [
    "# Defining the logistic regression model\n",
    "from sklearn.linear_model import LogisticRegression\n",
    "model = LogisticRegression(random_state=0)"
   ]
  },
  {
   "cell_type": "code",
   "execution_count": 33,
   "id": "1b32f7f2",
   "metadata": {},
   "outputs": [],
   "source": [
    "# Training the logistic regression model\n",
    "model.fit(x_train_res, y_train_res)\n",
    "\n",
    "# Let’s obtain the prediction on the test dataset.\n",
    "# Making predictions with the trained model\n",
    "y_pred = model.predict(x_test)"
   ]
  },
  {
   "cell_type": "code",
   "execution_count": 34,
   "id": "6fb556f2",
   "metadata": {},
   "outputs": [
    {
     "data": {
      "text/plain": [
       "array([[3320, 1383],\n",
       "       [ 471,  826]])"
      ]
     },
     "execution_count": 34,
     "metadata": {},
     "output_type": "execute_result"
    }
   ],
   "source": [
    "# Confusion matrix\n",
    "from sklearn.metrics import confusion_matrix\n",
    "confusion_matrix(y_test, y_pred)"
   ]
  },
  {
   "cell_type": "markdown",
   "id": "334ecb19",
   "metadata": {},
   "source": [
    "As we can see from the above confusion matrix, a total of 3320+826= 4146 are correctly predicted and 1383 + 471 = 1854  are incorrectly predicted. \n",
    "\n",
    "Let’s see how the model is accurate on the test dataset."
   ]
  },
  {
   "cell_type": "code",
   "execution_count": 35,
   "id": "c4d68561",
   "metadata": {},
   "outputs": [
    {
     "data": {
      "text/plain": [
       "0.691"
      ]
     },
     "execution_count": 35,
     "metadata": {},
     "output_type": "execute_result"
    }
   ],
   "source": [
    "# Test accuracy\n",
    "model.score(x_test,y_test)"
   ]
  },
  {
   "cell_type": "code",
   "execution_count": 36,
   "id": "c1e5941f",
   "metadata": {},
   "outputs": [
    {
     "name": "stdout",
     "output_type": "stream",
     "text": [
      "              precision    recall  f1-score   support\n",
      "\n",
      "           0       0.88      0.71      0.78      4703\n",
      "           1       0.37      0.64      0.47      1297\n",
      "\n",
      "    accuracy                           0.69      6000\n",
      "   macro avg       0.62      0.67      0.63      6000\n",
      "weighted avg       0.77      0.69      0.71      6000\n",
      "\n"
     ]
    }
   ],
   "source": [
    "# Classification report\n",
    "from sklearn.metrics import classification_report\n",
    "print(classification_report(y_test, y_pred))"
   ]
  },
  {
   "cell_type": "markdown",
   "id": "1ebc6ec4",
   "metadata": {},
   "source": [
    "As we can see from the above classification report the model is well evaluated on the metrics and given a decent performance. \n",
    "\n",
    "So this is how we can perform PCA and incorporate it into the model pipeline.  "
   ]
  },
  {
   "cell_type": "code",
   "execution_count": null,
   "id": "2f03db07",
   "metadata": {},
   "outputs": [],
   "source": []
  }
 ],
 "metadata": {
  "kernelspec": {
   "display_name": "Python 3 (ipykernel)",
   "language": "python",
   "name": "python3"
  },
  "language_info": {
   "codemirror_mode": {
    "name": "ipython",
    "version": 3
   },
   "file_extension": ".py",
   "mimetype": "text/x-python",
   "name": "python",
   "nbconvert_exporter": "python",
   "pygments_lexer": "ipython3",
   "version": "3.8.10"
  }
 },
 "nbformat": 4,
 "nbformat_minor": 5
}
